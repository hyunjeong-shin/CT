{
 "cells": [
  {
   "cell_type": "code",
   "execution_count": 5,
   "metadata": {},
   "outputs": [],
   "source": [
    "def solution(rows, columns, queries):\n",
    "    answer = []\n",
    "    array = [[0 for col in range(columns)] for row in range(rows)] # 0으로 초기화 된 배열 생성\n",
    "    a = 1\n",
    "    for row in range(rows):\n",
    "        for col in range(columns):\n",
    "            array[row][col] = a\n",
    "            a += 1 # 행렬 1 씩 증가 생성\n",
    "        \n",
    "    for x1,x2,y1,y2 in queries:\n",
    "        rotate = array[x1-1][y1-1]\n",
    "        min_val = rotate\n",
    "     \n",
    "        for k in range(x1-1, x2-1): #왼쪽 세로 위로이동\n",
    "            t = array[k+1][y1-1]\n",
    "            array[k][y1-1] = t\n",
    "            min_val = min(min_val,t)\n",
    "    \n",
    "        for k in range(y1-1, y2-1): # 아래쪽 가로 왼쪽으로 이동\n",
    "            t = array[x2-1][k+1]\n",
    "            array[x2-1][k] = t\n",
    "            min_val = min(min_val,t)\n",
    "        \n",
    "        for k in range(x2-1,x1-1,-1): # 오른쪽 세로 아래로 이동\n",
    "            t = array[k-1][y2-1]\n",
    "            array[k][y2-1] = t\n",
    "            min_val = min(min_val,t)\n",
    "\n",
    "        for k in range(y2-1,y1-1,-1): # 상단 가로 우측으로 이동\n",
    "            t = array[x1-1][k-1]\n",
    "            array[x1-1][k] = t\n",
    "            min_val = min(min_val,t)\n",
    "\n",
    "\n",
    "        array[x1-1][y1] = rotate\n",
    "        answer.append(min_val)\n",
    "\n",
    "    return answer\n"
   ]
  },
  {
   "cell_type": "code",
   "execution_count": null,
   "metadata": {},
   "outputs": [],
   "source": []
  }
 ],
 "metadata": {
  "kernelspec": {
   "display_name": "Python 3",
   "language": "python",
   "name": "python3"
  },
  "language_info": {
   "codemirror_mode": {
    "name": "ipython",
    "version": 3
   },
   "file_extension": ".py",
   "mimetype": "text/x-python",
   "name": "python",
   "nbconvert_exporter": "python",
   "pygments_lexer": "ipython3",
   "version": "3.7.4"
  }
 },
 "nbformat": 4,
 "nbformat_minor": 2
}
